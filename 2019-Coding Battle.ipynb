{
 "cells": [
  {
   "cell_type": "markdown",
   "metadata": {},
   "source": [
    "# Coding Battle - 2019"
   ]
  },
  {
   "cell_type": "markdown",
   "metadata": {},
   "source": [
    "## Imports"
   ]
  },
  {
   "cell_type": "code",
   "execution_count": 1,
   "metadata": {},
   "outputs": [],
   "source": [
    "import math\n",
    "import numpy as np"
   ]
  },
  {
   "cell_type": "code",
   "execution_count": 2,
   "metadata": {},
   "outputs": [],
   "source": [
    "from collections import Counter \n"
   ]
  },
  {
   "cell_type": "markdown",
   "metadata": {},
   "source": [
    "## TEST"
   ]
  },
  {
   "cell_type": "code",
   "execution_count": 3,
   "metadata": {},
   "outputs": [],
   "source": [
    "arr = [1, 2, 3, 1, 1]"
   ]
  },
  {
   "cell_type": "code",
   "execution_count": 4,
   "metadata": {},
   "outputs": [],
   "source": [
    "counter = Counter(arr)"
   ]
  },
  {
   "cell_type": "code",
   "execution_count": 7,
   "metadata": {},
   "outputs": [
    {
     "data": {
      "text/plain": [
       "[(1, 3), (2, 1), (3, 1)]"
      ]
     },
     "execution_count": 7,
     "metadata": {},
     "output_type": "execute_result"
    }
   ],
   "source": [
    "counter.most_common(3)"
   ]
  },
  {
   "cell_type": "code",
   "execution_count": null,
   "metadata": {},
   "outputs": [],
   "source": []
  },
  {
   "cell_type": "markdown",
   "metadata": {},
   "source": [
    "## Exercices"
   ]
  },
  {
   "cell_type": "markdown",
   "metadata": {},
   "source": [
    "### Exo 1"
   ]
  },
  {
   "cell_type": "code",
   "execution_count": null,
   "metadata": {},
   "outputs": [],
   "source": []
  },
  {
   "cell_type": "markdown",
   "metadata": {},
   "source": [
    "### Exo 2"
   ]
  },
  {
   "cell_type": "code",
   "execution_count": 8,
   "metadata": {},
   "outputs": [],
   "source": [
    "a = [0, 1, 2, 3]"
   ]
  },
  {
   "cell_type": "code",
   "execution_count": 10,
   "metadata": {},
   "outputs": [
    {
     "data": {
      "text/plain": [
       "[2, 3]"
      ]
     },
     "execution_count": 10,
     "metadata": {},
     "output_type": "execute_result"
    }
   ],
   "source": [
    "a[2:]"
   ]
  },
  {
   "cell_type": "code",
   "execution_count": null,
   "metadata": {},
   "outputs": [],
   "source": []
  },
  {
   "cell_type": "code",
   "execution_count": 36,
   "metadata": {},
   "outputs": [
    {
     "name": "stdout",
     "output_type": "stream",
     "text": [
      "490.0\n",
      "8:10\n"
     ]
    }
   ],
   "source": [
    "import math\n",
    "\n",
    "local = '10:80'\n",
    "M = 2\n",
    "H = 90\n",
    "\n",
    "hh = int(local[:2])\n",
    "mm = int(local[3:])\n",
    "\n",
    "terr_min = (hh * H + mm) / M\n",
    "print(terr_min)\n",
    "\n",
    "\n",
    "hour = (terr_min//60)%24\n",
    "minutes = terr_min-(terr_min//60 * 60)\n",
    "result = \"{:.0f}:{:.0f}\".format(hour, minutes)\n",
    "\n",
    "print(result)"
   ]
  },
  {
   "cell_type": "code",
   "execution_count": 22,
   "metadata": {},
   "outputs": [
    {
     "data": {
      "text/plain": [
       "1"
      ]
     },
     "execution_count": 22,
     "metadata": {},
     "output_type": "execute_result"
    }
   ],
   "source": [
    "int('01:01'[:2])"
   ]
  },
  {
   "cell_type": "code",
   "execution_count": 20,
   "metadata": {},
   "outputs": [
    {
     "data": {
      "text/plain": [
       "50"
      ]
     },
     "execution_count": 20,
     "metadata": {},
     "output_type": "execute_result"
    }
   ],
   "source": [
    "3000//60"
   ]
  },
  {
   "cell_type": "code",
   "execution_count": null,
   "metadata": {},
   "outputs": [],
   "source": []
  },
  {
   "cell_type": "code",
   "execution_count": 39,
   "metadata": {},
   "outputs": [
    {
     "name": "stdin",
     "output_type": "stream",
     "text": [
      " 20:00\n",
      " 2\n",
      " 300\n"
     ]
    },
    {
     "name": "stdout",
     "output_type": "stream",
     "text": [
      "3000.0\n",
      "2:0\n"
     ]
    }
   ],
   "source": [
    "\n",
    "local = str(input())\n",
    "M = int(input())\n",
    "H = int(input())\n",
    "\n",
    "hh = int(local[:2])\n",
    "mm = int(local[3:])\n",
    "\n",
    "terr_min = (hh * H + mm) / M\n",
    "print(terr_min)\n",
    "\n",
    "hour = (terr_min//60) % 24\n",
    "minutes = terr_min%60\n",
    "result = \"{:.0f}:{:.0f}\".format(hour, minutes)\n",
    "\n",
    "print (result)"
   ]
  },
  {
   "cell_type": "code",
   "execution_count": null,
   "metadata": {},
   "outputs": [],
   "source": []
  },
  {
   "cell_type": "markdown",
   "metadata": {},
   "source": [
    "### Exo 3"
   ]
  },
  {
   "cell_type": "code",
   "execution_count": 42,
   "metadata": {},
   "outputs": [
    {
     "data": {
      "text/plain": [
       "['', '', '', '', '']"
      ]
     },
     "execution_count": 42,
     "metadata": {},
     "output_type": "execute_result"
    }
   ],
   "source": [
    "noms = ['']*5\n",
    "noms"
   ]
  },
  {
   "cell_type": "code",
   "execution_count": null,
   "metadata": {},
   "outputs": [],
   "source": []
  },
  {
   "cell_type": "code",
   "execution_count": 2,
   "metadata": {},
   "outputs": [
    {
     "name": "stdin",
     "output_type": "stream",
     "text": [
      " magneto\n",
      " 0 100\n",
      " 100 200\n",
      " 200 300\n",
      " furio\n",
      " -1 2\n",
      " 2 3\n",
      " 3 4\n"
     ]
    }
   ],
   "source": [
    "noms = ['']*2\n",
    "\n",
    "x = dict()\n",
    "y = dict()\n",
    "\n",
    "for i in range(2):\n",
    "    noms[i] = input()\n",
    "    x[i] = [0]*3\n",
    "    y[i] = [0]*3\n",
    "    for j in range(3):\n",
    "        x[i][j], y[i][j] = map(float, input().split(\" \"))"
   ]
  },
  {
   "cell_type": "code",
   "execution_count": 3,
   "metadata": {},
   "outputs": [
    {
     "data": {
      "text/plain": [
       "{0: [0.0, 100.0, 200.0], 1: [-1.0, 2.0, 3.0]}"
      ]
     },
     "execution_count": 3,
     "metadata": {},
     "output_type": "execute_result"
    }
   ],
   "source": [
    "x"
   ]
  },
  {
   "cell_type": "code",
   "execution_count": null,
   "metadata": {},
   "outputs": [],
   "source": []
  },
  {
   "cell_type": "code",
   "execution_count": null,
   "metadata": {},
   "outputs": [],
   "source": []
  },
  {
   "cell_type": "code",
   "execution_count": 16,
   "metadata": {},
   "outputs": [
    {
     "name": "stdin",
     "output_type": "stream",
     "text": [
      " 150 100\n",
      " 2 8\n",
      " mag\n",
      " 300 300\n",
      " 325 250\n",
      " 275 225\n",
      " 225 250\n",
      " 200 175\n",
      " 125 150\n",
      " 75 175\n",
      " 50 225\n",
      " fat\n",
      " 25 25\n",
      " 50 75\n",
      " 100 100\n",
      " 175 75\n",
      " 250 50\n",
      " 275 100\n",
      " 325 100\n",
      " 350 175\n"
     ]
    },
    {
     "name": "stdout",
     "output_type": "stream",
     "text": [
      "mag 0 :  480.48861143232216\n",
      "mag 1 :  407.2653067289591\n",
      "mag 2 :  344.48179360912115\n",
      "mag 3 :  257.84388019908397\n",
      "mag 4 :  146.04048132409446\n",
      "mag 5 :  161.9677166154769\n",
      "mag 6 :  266.14412311380335\n",
      "fat 0 :  248.85143801157403\n",
      "fat 1 :  153.07764064044153\n",
      "fat 2 :  85.35533905932738\n",
      "fat 3 :  147.15873793431686\n",
      "fat 4 :  236.80339887498948\n",
      "fat 5 :  300.0\n",
      "fat 6 :  388.6000936329383\n",
      "mag\n"
     ]
    }
   ],
   "source": [
    "import math\n",
    "\n",
    "xb, yb = map(float, input().split(\" \"))\n",
    "N, T = map(int, input().split(\" \"))\n",
    "\n",
    "noms = ['']*N\n",
    "x = dict()\n",
    "y = dict()\n",
    "\n",
    "for i in range(N):\n",
    "    noms[i] = input()\n",
    "    x[i] = [0]*T\n",
    "    y[i] = [0]*T\n",
    "    for j in range(T):\n",
    "        x[i][j], y[i][j] = map(float, input().split(\" \"))\n",
    "\n",
    "\n",
    "x_0 = dict(x)\n",
    "y_0 = dict(y)\n",
    "\n",
    "# for i in range(N):\n",
    "#     for j in range(T):\n",
    "#         x_0[i][j] = x_0[i][j] - xb\n",
    "#         y_0[i][j] = y_0[i][j] - yb\n",
    "\n",
    "resultat = ''\n",
    "liste_noms = []\n",
    "for i in range(N):\n",
    "    possible = True\n",
    "    possible_nom = True\n",
    "    while possible:\n",
    "        for t in range(T-1):\n",
    "            dist = math.sqrt((x[i][t+1] - xb)**2 + (y_0[i][t+1] - yb)**2) + math.sqrt((x[i][t] - xb)**2 + (y_0[i][t] - yb)**2)\n",
    "            print(noms[i], t, ': ', dist)\n",
    "            if dist <= 100:\n",
    "                possible = False\n",
    "                possible_nom = False\n",
    "        possible = False\n",
    "\n",
    "    if possible_nom:\n",
    "        liste_noms.append(noms[i])\n",
    "\n",
    "print (' '.join(liste_noms))\n",
    "\n"
   ]
  },
  {
   "cell_type": "markdown",
   "metadata": {},
   "source": [
    "##### x_0"
   ]
  },
  {
   "cell_type": "code",
   "execution_count": 11,
   "metadata": {},
   "outputs": [
    {
     "data": {
      "text/plain": [
       "{0: [200.0, 150.0, 125.0, 150.0, 75.0, 50.0, 75.0, 125.0],\n",
       " 1: [-75.0, -25.0, 0.0, -25.0, -50.0, 0.0, 0.0, 75.0]}"
      ]
     },
     "execution_count": 11,
     "metadata": {},
     "output_type": "execute_result"
    }
   ],
   "source": [
    "y_0"
   ]
  },
  {
   "cell_type": "markdown",
   "metadata": {},
   "source": [
    "### Exo 4"
   ]
  },
  {
   "cell_type": "code",
   "execution_count": 1,
   "metadata": {},
   "outputs": [],
   "source": [
    "import numpy as np"
   ]
  },
  {
   "cell_type": "code",
   "execution_count": 4,
   "metadata": {},
   "outputs": [],
   "source": [
    "a = np.array([[1,2,3],[4,5,6]])"
   ]
  },
  {
   "cell_type": "code",
   "execution_count": 5,
   "metadata": {},
   "outputs": [
    {
     "data": {
      "text/plain": [
       "6"
      ]
     },
     "execution_count": 5,
     "metadata": {},
     "output_type": "execute_result"
    }
   ],
   "source": [
    "a[-1, -1]"
   ]
  },
  {
   "cell_type": "code",
   "execution_count": 6,
   "metadata": {},
   "outputs": [
    {
     "data": {
      "text/plain": [
       "6"
      ]
     },
     "execution_count": 6,
     "metadata": {},
     "output_type": "execute_result"
    }
   ],
   "source": [
    "a[-1][-1]"
   ]
  },
  {
   "cell_type": "code",
   "execution_count": 3,
   "metadata": {},
   "outputs": [
    {
     "data": {
      "text/plain": [
       "array([1, 2, 3, 4, 5, 6])"
      ]
     },
     "execution_count": 3,
     "metadata": {},
     "output_type": "execute_result"
    }
   ],
   "source": [
    "a.reshape(-1, )"
   ]
  },
  {
   "cell_type": "code",
   "execution_count": 3,
   "metadata": {},
   "outputs": [
    {
     "name": "stdout",
     "output_type": "stream",
     "text": [
      "C:\\ProgramData\\Anaconda3\\python.exe\n",
      "3.7.3 (default, Apr 24 2019, 15:29:51) [MSC v.1915 64 bit (AMD64)]\n",
      "sys.version_info(major=3, minor=7, micro=3, releaselevel='final', serial=0)\n"
     ]
    }
   ],
   "source": [
    "import sys\n",
    "print(sys.executable)\n",
    "print(sys.version)\n",
    "print(sys.version_info)"
   ]
  },
  {
   "cell_type": "code",
   "execution_count": 7,
   "metadata": {},
   "outputs": [
    {
     "name": "stdin",
     "output_type": "stream",
     "text": [
      " 100\n",
      " 6\n",
      " 1 10\n",
      " 1 50\n",
      " 1 60\n",
      " 2 30\n",
      " 2 20\n",
      " 2 60\n"
     ]
    },
    {
     "name": "stdout",
     "output_type": "stream",
     "text": [
      "690.0\n"
     ]
    }
   ],
   "source": [
    "import math\n",
    "import numpy as np\n",
    "\n",
    "# On récupère tous les inputs...\n",
    "Q = int(input())\n",
    "N = int(input())\n",
    "\n",
    "jaune = []\n",
    "bleu = []\n",
    "\n",
    "for i in range(N):\n",
    "    a = input()\n",
    "    if int(a[0]) == 1:\n",
    "        jaune.append(int(str(a)[2:]))\n",
    "    else:\n",
    "        bleu.append(int(str(a)[2:]))\n",
    "# Les inputs ont tous été récupérés\n",
    "\n",
    "# On construit la matrice des énergies de toutes les paires (jaune, bleu) possibles\n",
    "matrix = np.zeros((len(jaune), len(bleu)))\n",
    "\n",
    "for i in range(len(jaune)):\n",
    "    for j in range(len(bleu)):\n",
    "        matrix[i][j] = jaune[i] + bleu[j]\n",
    "\n",
    "energy_values = matrix.reshape(-1, )\n",
    "\n",
    "# On va appliquer l'algorithme de résolution du problème du sac à dos !!\n",
    "n = len(energy_values)\n",
    "tableau = np.zeros((n, Q))\n",
    "\n",
    "tableau[0, :] = energy_values[0] * np.ones((1, Q))\n",
    "for i in range(1, n):\n",
    "    for j in range(Q):\n",
    "        tableau[i, j] = max(energy_values[i] + tableau[i-1, j-1], tableau[i-1, j])\n",
    "\n",
    "print(tableau[-1, -1])"
   ]
  },
  {
   "cell_type": "code",
   "execution_count": 8,
   "metadata": {},
   "outputs": [
    {
     "data": {
      "text/plain": [
       "array([[ 40.,  30.,  70.],\n",
       "       [ 80.,  70., 110.],\n",
       "       [ 90.,  80., 120.]])"
      ]
     },
     "execution_count": 8,
     "metadata": {},
     "output_type": "execute_result"
    }
   ],
   "source": [
    "matrix"
   ]
  },
  {
   "cell_type": "code",
   "execution_count": 9,
   "metadata": {},
   "outputs": [
    {
     "data": {
      "text/plain": [
       "690.0"
      ]
     },
     "execution_count": 9,
     "metadata": {},
     "output_type": "execute_result"
    }
   ],
   "source": [
    "np.sum(matrix)"
   ]
  },
  {
   "cell_type": "code",
   "execution_count": 12,
   "metadata": {},
   "outputs": [
    {
     "data": {
      "text/plain": [
       "array([[ 90.,  80., 120.],\n",
       "       [ 80.,  70., 110.],\n",
       "       [ 40.,  30.,  70.]])"
      ]
     },
     "execution_count": 12,
     "metadata": {},
     "output_type": "execute_result"
    }
   ],
   "source": [
    "matrix[[2,1,0]]"
   ]
  },
  {
   "cell_type": "code",
   "execution_count": 17,
   "metadata": {},
   "outputs": [],
   "source": [
    "from itertools import permutations \n",
    "l = list(permutations(range(1, 4))) \n"
   ]
  },
  {
   "cell_type": "code",
   "execution_count": 18,
   "metadata": {},
   "outputs": [
    {
     "data": {
      "text/plain": [
       "[(1, 2, 3), (1, 3, 2), (2, 1, 3), (2, 3, 1), (3, 1, 2), (3, 2, 1)]"
      ]
     },
     "execution_count": 18,
     "metadata": {},
     "output_type": "execute_result"
    }
   ],
   "source": [
    "l"
   ]
  },
  {
   "cell_type": "code",
   "execution_count": null,
   "metadata": {},
   "outputs": [],
   "source": []
  },
  {
   "cell_type": "code",
   "execution_count": 21,
   "metadata": {},
   "outputs": [
    {
     "name": "stdin",
     "output_type": "stream",
     "text": [
      " 100\n",
      " 4\n",
      " 1 50\n",
      " 1 60\n",
      " 2 70\n",
      " 2 60\n"
     ]
    },
    {
     "name": "stdout",
     "output_type": "stream",
     "text": [
      "240.0\n"
     ]
    }
   ],
   "source": [
    "import math\n",
    "import numpy as np\n",
    "from itertools import permutations\n",
    "\n",
    "\n",
    "# On récupère tous les inputs...\n",
    "Q = int(input())\n",
    "N = int(input())\n",
    "\n",
    "jaune = []\n",
    "bleu = []\n",
    "\n",
    "for i in range(N):\n",
    "    a = input()\n",
    "    if int(a[0]) == 1:\n",
    "        jaune.append(int(str(a)[2:]))\n",
    "    else:\n",
    "        bleu.append(int(str(a)[2:]))\n",
    "# Les inputs ont tous été récupérés\n",
    "\n",
    "# On construit la matrice des énergies de toutes les paires (jaune, bleu) possibles\n",
    "matrix = np.zeros((len(jaune), len(bleu)))\n",
    "\n",
    "for i in range(len(jaune)):\n",
    "    for j in range(len(bleu)):\n",
    "        matrix[i][j] = jaune[i] + bleu[j]\n",
    "\n",
    "#energy_values = matrix.reshape(-1, )\n",
    "\n",
    "#### WORK IN PROGRESS ####\n",
    "# On construit toutes les matrices binaires possibles de paires (jaune, bleu)\n",
    "liste_jaune = list(permutations(range(len(jaune))))\n",
    "liste_bleu = list(permutations(range(len(bleu))))\n",
    "\n",
    "identity = np.eye(len(jaune), len(bleu))\n",
    "\n",
    "\n",
    "result = 0\n",
    "\n",
    "for k in range(len(jaune)):\n",
    "    for l in range(len(bleu)):\n",
    "        stochastic_matrix = identity[list(liste_jaune[k])][list(liste_bleu[l])]\n",
    "        new_energy_values = np.multiply(matrix, stochastic_matrix)\n",
    "\n",
    "        energy_values = new_energy_values.reshape(-1, )\n",
    "\n",
    "        # On va appliquer l'algorithme de résolution du problème du sac à dos !!\n",
    "        n = len(energy_values)\n",
    "        tableau = np.zeros((n, Q))\n",
    "\n",
    "        tableau[0, :] = energy_values[0] * np.ones((1, Q))\n",
    "        for i in range(1, n):\n",
    "            for j in range(Q):\n",
    "                tableau[i, j] = max(energy_values[i] + tableau[i-1, j-1], tableau[i-1, j])\n",
    "\n",
    "        result = max(result, tableau[-1, -1])\n",
    "\n",
    "print(result)"
   ]
  },
  {
   "cell_type": "markdown",
   "metadata": {},
   "source": [
    "### Exo 5"
   ]
  },
  {
   "cell_type": "code",
   "execution_count": null,
   "metadata": {},
   "outputs": [],
   "source": []
  },
  {
   "cell_type": "code",
   "execution_count": null,
   "metadata": {},
   "outputs": [],
   "source": []
  },
  {
   "cell_type": "markdown",
   "metadata": {},
   "source": [
    "### Exo 6"
   ]
  },
  {
   "cell_type": "code",
   "execution_count": null,
   "metadata": {},
   "outputs": [],
   "source": []
  }
 ],
 "metadata": {
  "kernelspec": {
   "display_name": "Python 3",
   "language": "python",
   "name": "python3"
  },
  "language_info": {
   "codemirror_mode": {
    "name": "ipython",
    "version": 3
   },
   "file_extension": ".py",
   "mimetype": "text/x-python",
   "name": "python",
   "nbconvert_exporter": "python",
   "pygments_lexer": "ipython3",
   "version": "3.7.3"
  },
  "toc-autonumbering": true
 },
 "nbformat": 4,
 "nbformat_minor": 4
}
